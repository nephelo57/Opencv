{
 "cells": [
  {
   "cell_type": "code",
   "execution_count": null,
   "id": "92547d1d-558f-4515-8eff-be693f27b661",
   "metadata": {},
   "outputs": [],
   "source": [
    "from ultralytics import YOLO #导入Yo1o模块\n",
    "井非加载yolov8的预训练模型，这个模型是yolov8使用了coco数据集训练的通用目标检测模型，\n",
    "我们将它作为基础模型，在该模型的基础上，训练安全帽模型\n",
    "model= YOLO('yolov8n.pt')#用于加载模型\n",
    "\n",
    "训练用户自定义的数据集，数据的配置保存在safehat.yaml中，epochs等于100表示100轮迭代\n",
    "model.train(data='safehat.yaml', epochs=100)\n",
    "#使用验证集验证效果\n",
    "model.val()\n",
    "编写模型的训练代码\n"
   ]
  },
  {
   "cell_type": "code",
   "execution_count": null,
   "id": "a3670721-971c-48d0-b3a8-e37f85dd3273",
   "metadata": {},
   "outputs": [],
   "source": [
    "from ultralytics import YOLO #在代码中导入yolo模块\n",
    "#导入训练好的模型best.pt\n",
    "model = YOLO('best.pt')\n",
    "#随意找一些测试数据\n",
    "图片数据和视频数据都可以，直接将数据传入接口就可以了\n",
    "model.predict('path', save=True)\n",
    "model.predict('path', save=True)\n",
    "在识别自己构造的数据时，传入了classes=[0，2]，\n",
    "代表只输出0和2，也就是安全帽是否佩戴这两个类别\n",
    "#line width = 30表示指定识别框的字体大小为30\n",
    "model.predict('myself1.ipg',save=True, classes ：[0, 2], line width = 30)\n",
    "model.predict('myself2.jpg' save=True, classes [0,2],line width = 30)\n",
    "model.predict('myself1.MP4' save=True, classes =[0, 21, line width = 30)\n",
    "model.predict('myself2.MP4', save=True, classes =[0, 2],line_width = 30)\n"
   ]
  }
 ],
 "metadata": {
  "kernelspec": {
   "display_name": "Python 3 (ipykernel)",
   "language": "python",
   "name": "python3"
  },
  "language_info": {
   "codemirror_mode": {
    "name": "ipython",
    "version": 3
   },
   "file_extension": ".py",
   "mimetype": "text/x-python",
   "name": "python",
   "nbconvert_exporter": "python",
   "pygments_lexer": "ipython3",
   "version": "3.11.5"
  }
 },
 "nbformat": 4,
 "nbformat_minor": 5
}
